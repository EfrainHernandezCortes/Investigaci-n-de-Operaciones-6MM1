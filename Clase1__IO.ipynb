{
  "nbformat": 4,
  "nbformat_minor": 0,
  "metadata": {
    "colab": {
      "provenance": [],
      "authorship_tag": "ABX9TyMCqSu0LftmeNYW77dcu4vh",
      "include_colab_link": true
    },
    "kernelspec": {
      "name": "python3",
      "display_name": "Python 3"
    },
    "language_info": {
      "name": "python"
    }
  },
  "cells": [
    {
      "cell_type": "markdown",
      "metadata": {
        "id": "view-in-github",
        "colab_type": "text"
      },
      "source": [
        "<a href=\"https://colab.research.google.com/github/EfrainHernandezCortes/Investigaci-n-de-Operaciones-6MM1/blob/main/Clase1__IO.ipynb\" target=\"_parent\"><img src=\"https://colab.research.google.com/assets/colab-badge.svg\" alt=\"Open In Colab\"/></a>"
      ]
    },
    {
      "cell_type": "markdown",
      "source": [
        "4 de septiembre del 2025."
      ],
      "metadata": {
        "id": "-MR-AdHFdb4Q"
      }
    },
    {
      "cell_type": "code",
      "execution_count": 38,
      "metadata": {
        "id": "IejGeRpiXVeM"
      },
      "outputs": [],
      "source": [
        "import networkx as nx\n",
        "import matplotlib.pyplot as plt"
      ]
    },
    {
      "cell_type": "markdown",
      "source": [
        "Importa la librería Networkx."
      ],
      "metadata": {
        "id": "EXD7yXcfcVEP"
      }
    },
    {
      "cell_type": "markdown",
      "source": [
        "Agrega los nodos, con una capacidad dada."
      ],
      "metadata": {
        "id": "0XySlV-eaNdJ"
      }
    },
    {
      "cell_type": "code",
      "source": [
        "G=nx.DiGraph() #grafo dirigido\n",
        "G.add_edge(\"A\", \"B\", capacity=5)\n",
        "G.add_edge(\"C\", \"D\", capacity=7)\n",
        "G.add_edge(\"B\", \"C\", capacity=4)\n",
        "G.add_edge(\"A\", \"C\", capacity=9)\n",
        "G.add_edge(\"B\", \"D\", capacity=6)"
      ],
      "metadata": {
        "id": "jUUNZt-IYcnH"
      },
      "execution_count": 24,
      "outputs": []
    },
    {
      "cell_type": "code",
      "source": [
        "G"
      ],
      "metadata": {
        "colab": {
          "base_uri": "https://localhost:8080/"
        },
        "id": "zLMIXokCZr1f",
        "outputId": "14d8ef23-acb7-47fd-cf92-51d119514606"
      },
      "execution_count": 18,
      "outputs": [
        {
          "output_type": "execute_result",
          "data": {
            "text/plain": [
              "<networkx.classes.digraph.DiGraph at 0x7c9868f15d60>"
            ]
          },
          "metadata": {},
          "execution_count": 18
        }
      ]
    },
    {
      "cell_type": "code",
      "source": [
        "nx.draw_networkx(G)\n",
        "plt.title(\"Arcos y nodos\")"
      ],
      "metadata": {
        "colab": {
          "base_uri": "https://localhost:8080/",
          "height": 277
        },
        "id": "0wKorU0saE-_",
        "outputId": "2704048d-25eb-46e9-f56b-8db2db295de2"
      },
      "execution_count": 41,
      "outputs": [
        {
          "output_type": "execute_result",
          "data": {
            "text/plain": [
              "Text(0.5, 1.0, 'Arcos y nodos')"
            ]
          },
          "metadata": {},
          "execution_count": 41
        },
        {
          "output_type": "display_data",
          "data": {
            "text/plain": [
              "<Figure size 640x480 with 1 Axes>"
            ],
            "image/png": "[encoded data removed]"
          },
          "metadata": {}
        }
      ]
    },
    {
      "cell_type": "markdown",
      "source": [
        "Grafica la red."
      ],
      "metadata": {
        "id": "1vC0_czycBJc"
      }
    },
    {
      "cell_type": "code",
      "source": [
        "nx.nodes(G)"
      ],
      "metadata": {
        "colab": {
          "base_uri": "https://localhost:8080/"
        },
        "id": "yFWjd9kfbqYp",
        "outputId": "25fe842f-f804-405a-9a6b-cdc8771ac67b"
      },
      "execution_count": 26,
      "outputs": [
        {
          "output_type": "execute_result",
          "data": {
            "text/plain": [
              "NodeView(('A', 'B', 'C', 'D'))"
            ]
          },
          "metadata": {},
          "execution_count": 26
        }
      ]
    },
    {
      "cell_type": "markdown",
      "source": [
        "Devuelve la lista de nodos que conforman la red."
      ],
      "metadata": {
        "id": "VgJmPRyIcDSi"
      }
    },
    {
      "cell_type": "code",
      "source": [
        "nx.edges(G)"
      ],
      "metadata": {
        "colab": {
          "base_uri": "https://localhost:8080/"
        },
        "id": "6dk1geKwb7q-",
        "outputId": "bce8faf6-e717-48d0-ae31-b47df421f11b"
      },
      "execution_count": 27,
      "outputs": [
        {
          "output_type": "execute_result",
          "data": {
            "text/plain": [
              "OutEdgeView([('A', 'B'), ('A', 'C'), ('B', 'C'), ('B', 'D'), ('C', 'D')])"
            ]
          },
          "metadata": {},
          "execution_count": 27
        }
      ]
    },
    {
      "cell_type": "markdown",
      "source": [
        "Devuelve la lista de arcos que conforman la red."
      ],
      "metadata": {
        "id": "G3nGsNWvcG5Z"
      }
    },
    {
      "cell_type": "code",
      "source": [
        "nx.number_of_nodes(G)"
      ],
      "metadata": {
        "colab": {
          "base_uri": "https://localhost:8080/"
        },
        "id": "v9PDDIeAdGfo",
        "outputId": "477cf7a4-3c19-4226-a7d5-d38f505ece01"
      },
      "execution_count": 31,
      "outputs": [
        {
          "output_type": "execute_result",
          "data": {
            "text/plain": [
              "4"
            ]
          },
          "metadata": {},
          "execution_count": 31
        }
      ]
    },
    {
      "cell_type": "markdown",
      "source": [
        "Devuelve el número de nodos en la red."
      ],
      "metadata": {
        "id": "SYafdE4KdONj"
      }
    }
  ]
}